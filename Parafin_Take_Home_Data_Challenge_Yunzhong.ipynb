{
 "cells": [
  {
   "cell_type": "code",
   "execution_count": 4,
   "id": "3719005c",
   "metadata": {},
   "outputs": [],
   "source": [
    "import numpy as np\n",
    "import pandas as pd\n",
    "import statsmodels.formula.api as smf\n",
    "import statsmodels.api as sm\n",
    "import seaborn as sns\n",
    "import matplotlib.pyplot as plt"
   ]
  },
  {
   "cell_type": "code",
   "execution_count": 5,
   "id": "548c84e3",
   "metadata": {},
   "outputs": [],
   "source": [
    "url = r'/Users/yunzhonggao/Downloads/merchant_offers.csv'\n",
    "merchant_offers = pd.read_csv(url)\n",
    "url = r'/Users/yunzhonggao/Downloads/offer_views.csv'\n",
    "offer_views = pd.read_csv(url)\n",
    "url = r'/Users/yunzhonggao/Downloads/merchants.csv'\n",
    "merchants = pd.read_csv(url)"
   ]
  },
  {
   "cell_type": "code",
   "execution_count": 6,
   "id": "5f7c7a23",
   "metadata": {},
   "outputs": [
    {
     "data": {
      "text/html": [
       "<div>\n",
       "<style scoped>\n",
       "    .dataframe tbody tr th:only-of-type {\n",
       "        vertical-align: middle;\n",
       "    }\n",
       "\n",
       "    .dataframe tbody tr th {\n",
       "        vertical-align: top;\n",
       "    }\n",
       "\n",
       "    .dataframe thead th {\n",
       "        text-align: right;\n",
       "    }\n",
       "</style>\n",
       "<table border=\"1\" class=\"dataframe\">\n",
       "  <thead>\n",
       "    <tr style=\"text-align: right;\">\n",
       "      <th></th>\n",
       "      <th>business_id</th>\n",
       "      <th>offer_viewed_at</th>\n",
       "    </tr>\n",
       "  </thead>\n",
       "  <tbody>\n",
       "    <tr>\n",
       "      <th>0</th>\n",
       "      <td>000888ce-c44b-4075-8d79-06de87c3ba14</td>\n",
       "      <td>2022-12-29 18:44:15.509000</td>\n",
       "    </tr>\n",
       "    <tr>\n",
       "      <th>1</th>\n",
       "      <td>000a6365-6aff-4b41-b295-16dda7bc7ace</td>\n",
       "      <td>2021-11-22 15:27:33.519000</td>\n",
       "    </tr>\n",
       "    <tr>\n",
       "      <th>2</th>\n",
       "      <td>000fc1ae-b3fb-402e-9e8b-a6522173af1d</td>\n",
       "      <td>2021-11-22 18:06:48.668000</td>\n",
       "    </tr>\n",
       "    <tr>\n",
       "      <th>3</th>\n",
       "      <td>000fc1ae-b3fb-402e-9e8b-a6522173af1d</td>\n",
       "      <td>2023-06-05 14:27:58.487000</td>\n",
       "    </tr>\n",
       "    <tr>\n",
       "      <th>4</th>\n",
       "      <td>00100ed0-b822-45dc-b677-7671907fda63</td>\n",
       "      <td>2022-03-03 16:19:46.580000</td>\n",
       "    </tr>\n",
       "    <tr>\n",
       "      <th>...</th>\n",
       "      <td>...</td>\n",
       "      <td>...</td>\n",
       "    </tr>\n",
       "    <tr>\n",
       "      <th>48327</th>\n",
       "      <td>fffb5ec1-96e4-43e4-8960-74d72b5af2f6</td>\n",
       "      <td>2022-11-16 09:02:25.029000</td>\n",
       "    </tr>\n",
       "    <tr>\n",
       "      <th>48328</th>\n",
       "      <td>fffb5ec1-96e4-43e4-8960-74d72b5af2f6</td>\n",
       "      <td>2022-12-29 22:42:23.701000</td>\n",
       "    </tr>\n",
       "    <tr>\n",
       "      <th>48329</th>\n",
       "      <td>fffb5ec1-96e4-43e4-8960-74d72b5af2f6</td>\n",
       "      <td>2023-02-27 12:28:50.333000</td>\n",
       "    </tr>\n",
       "    <tr>\n",
       "      <th>48330</th>\n",
       "      <td>fffb5ec1-96e4-43e4-8960-74d72b5af2f6</td>\n",
       "      <td>2023-04-22 04:50:59.605000</td>\n",
       "    </tr>\n",
       "    <tr>\n",
       "      <th>48331</th>\n",
       "      <td>ffff22b9-4b63-4522-b389-d179607f2dc0</td>\n",
       "      <td>2022-03-29 22:35:35.302000</td>\n",
       "    </tr>\n",
       "  </tbody>\n",
       "</table>\n",
       "<p>48332 rows × 2 columns</p>\n",
       "</div>"
      ],
      "text/plain": [
       "                                business_id             offer_viewed_at\n",
       "0      000888ce-c44b-4075-8d79-06de87c3ba14  2022-12-29 18:44:15.509000\n",
       "1      000a6365-6aff-4b41-b295-16dda7bc7ace  2021-11-22 15:27:33.519000\n",
       "2      000fc1ae-b3fb-402e-9e8b-a6522173af1d  2021-11-22 18:06:48.668000\n",
       "3      000fc1ae-b3fb-402e-9e8b-a6522173af1d  2023-06-05 14:27:58.487000\n",
       "4      00100ed0-b822-45dc-b677-7671907fda63  2022-03-03 16:19:46.580000\n",
       "...                                     ...                         ...\n",
       "48327  fffb5ec1-96e4-43e4-8960-74d72b5af2f6  2022-11-16 09:02:25.029000\n",
       "48328  fffb5ec1-96e4-43e4-8960-74d72b5af2f6  2022-12-29 22:42:23.701000\n",
       "48329  fffb5ec1-96e4-43e4-8960-74d72b5af2f6  2023-02-27 12:28:50.333000\n",
       "48330  fffb5ec1-96e4-43e4-8960-74d72b5af2f6  2023-04-22 04:50:59.605000\n",
       "48331  ffff22b9-4b63-4522-b389-d179607f2dc0  2022-03-29 22:35:35.302000\n",
       "\n",
       "[48332 rows x 2 columns]"
      ]
     },
     "execution_count": 6,
     "metadata": {},
     "output_type": "execute_result"
    }
   ],
   "source": [
    "offer_views"
   ]
  },
  {
   "cell_type": "code",
   "execution_count": 7,
   "id": "79442db5",
   "metadata": {},
   "outputs": [
    {
     "data": {
      "text/html": [
       "<div>\n",
       "<style scoped>\n",
       "    .dataframe tbody tr th:only-of-type {\n",
       "        vertical-align: middle;\n",
       "    }\n",
       "\n",
       "    .dataframe tbody tr th {\n",
       "        vertical-align: top;\n",
       "    }\n",
       "\n",
       "    .dataframe thead th {\n",
       "        text-align: right;\n",
       "    }\n",
       "</style>\n",
       "<table border=\"1\" class=\"dataframe\">\n",
       "  <thead>\n",
       "    <tr style=\"text-align: right;\">\n",
       "      <th></th>\n",
       "      <th>business_id</th>\n",
       "      <th>offer_created_at</th>\n",
       "      <th>offer_closed_at</th>\n",
       "      <th>offer_accepted_at</th>\n",
       "      <th>offer_funded_at</th>\n",
       "      <th>merchant_daily_sales_forecast</th>\n",
       "      <th>offer_amount_max</th>\n",
       "      <th>fee_multiplier</th>\n",
       "      <th>accepted_amount</th>\n",
       "      <th>acceptance_number</th>\n",
       "    </tr>\n",
       "  </thead>\n",
       "  <tbody>\n",
       "    <tr>\n",
       "      <th>0</th>\n",
       "      <td>0019224d-13e9-45d0-9581-743a5b5d38a6</td>\n",
       "      <td>2023-01-18 04:39:01.093309</td>\n",
       "      <td>2023-02-01 07:59:59</td>\n",
       "      <td>NaN</td>\n",
       "      <td>NaN</td>\n",
       "      <td>258.00</td>\n",
       "      <td>15400.0</td>\n",
       "      <td>0.11304</td>\n",
       "      <td>NaN</td>\n",
       "      <td>NaN</td>\n",
       "    </tr>\n",
       "    <tr>\n",
       "      <th>1</th>\n",
       "      <td>0019224d-13e9-45d0-9581-743a5b5d38a6</td>\n",
       "      <td>2022-12-21 05:32:32.269204</td>\n",
       "      <td>2023-01-04 07:59:59</td>\n",
       "      <td>NaN</td>\n",
       "      <td>NaN</td>\n",
       "      <td>246.07</td>\n",
       "      <td>15400.0</td>\n",
       "      <td>0.09824</td>\n",
       "      <td>NaN</td>\n",
       "      <td>NaN</td>\n",
       "    </tr>\n",
       "    <tr>\n",
       "      <th>2</th>\n",
       "      <td>0019224d-13e9-45d0-9581-743a5b5d38a6</td>\n",
       "      <td>2022-01-09 02:08:45.912000</td>\n",
       "      <td>2022-02-04 07:59:59</td>\n",
       "      <td>NaN</td>\n",
       "      <td>NaN</td>\n",
       "      <td>195.59</td>\n",
       "      <td>5500.0</td>\n",
       "      <td>0.07520</td>\n",
       "      <td>NaN</td>\n",
       "      <td>NaN</td>\n",
       "    </tr>\n",
       "    <tr>\n",
       "      <th>3</th>\n",
       "      <td>0019224d-13e9-45d0-9581-743a5b5d38a6</td>\n",
       "      <td>2023-03-02 04:53:57.517703</td>\n",
       "      <td>2023-03-16 06:59:59</td>\n",
       "      <td>NaN</td>\n",
       "      <td>NaN</td>\n",
       "      <td>306.47</td>\n",
       "      <td>11000.0</td>\n",
       "      <td>0.10792</td>\n",
       "      <td>NaN</td>\n",
       "      <td>NaN</td>\n",
       "    </tr>\n",
       "    <tr>\n",
       "      <th>4</th>\n",
       "      <td>0019224d-13e9-45d0-9581-743a5b5d38a6</td>\n",
       "      <td>2022-04-10 01:11:34.597518</td>\n",
       "      <td>2022-05-02 06:59:59</td>\n",
       "      <td>NaN</td>\n",
       "      <td>NaN</td>\n",
       "      <td>258.99</td>\n",
       "      <td>6600.0</td>\n",
       "      <td>0.07448</td>\n",
       "      <td>NaN</td>\n",
       "      <td>NaN</td>\n",
       "    </tr>\n",
       "  </tbody>\n",
       "</table>\n",
       "</div>"
      ],
      "text/plain": [
       "                            business_id            offer_created_at  \\\n",
       "0  0019224d-13e9-45d0-9581-743a5b5d38a6  2023-01-18 04:39:01.093309   \n",
       "1  0019224d-13e9-45d0-9581-743a5b5d38a6  2022-12-21 05:32:32.269204   \n",
       "2  0019224d-13e9-45d0-9581-743a5b5d38a6  2022-01-09 02:08:45.912000   \n",
       "3  0019224d-13e9-45d0-9581-743a5b5d38a6  2023-03-02 04:53:57.517703   \n",
       "4  0019224d-13e9-45d0-9581-743a5b5d38a6  2022-04-10 01:11:34.597518   \n",
       "\n",
       "       offer_closed_at offer_accepted_at offer_funded_at  \\\n",
       "0  2023-02-01 07:59:59               NaN             NaN   \n",
       "1  2023-01-04 07:59:59               NaN             NaN   \n",
       "2  2022-02-04 07:59:59               NaN             NaN   \n",
       "3  2023-03-16 06:59:59               NaN             NaN   \n",
       "4  2022-05-02 06:59:59               NaN             NaN   \n",
       "\n",
       "   merchant_daily_sales_forecast  offer_amount_max  fee_multiplier  \\\n",
       "0                         258.00           15400.0         0.11304   \n",
       "1                         246.07           15400.0         0.09824   \n",
       "2                         195.59            5500.0         0.07520   \n",
       "3                         306.47           11000.0         0.10792   \n",
       "4                         258.99            6600.0         0.07448   \n",
       "\n",
       "   accepted_amount  acceptance_number  \n",
       "0              NaN                NaN  \n",
       "1              NaN                NaN  \n",
       "2              NaN                NaN  \n",
       "3              NaN                NaN  \n",
       "4              NaN                NaN  "
      ]
     },
     "execution_count": 7,
     "metadata": {},
     "output_type": "execute_result"
    }
   ],
   "source": [
    "merchant_offers.head()"
   ]
  },
  {
   "cell_type": "code",
   "execution_count": null,
   "id": "b6065500",
   "metadata": {},
   "outputs": [],
   "source": []
  },
  {
   "cell_type": "code",
   "execution_count": 11,
   "id": "e7b396fc",
   "metadata": {},
   "outputs": [],
   "source": [
    "merchant_offers['offer_created_at'] = pd.to_datetime(merchant_offers['offer_created_at'])\n",
    "merchant_offers['offer_closed_at'] = pd.to_datetime(merchant_offers['offer_closed_at'])\n",
    "merchant_offers['offer_accepted_at'] = pd.to_datetime(merchant_offers['offer_accepted_at'])\n",
    "merchant_offers['offer_funded_at'] = pd.to_datetime(merchant_offers['offer_funded_at'])\n",
    "offer_views['offer_viewed_at'] = pd.to_datetime(offer_views['offer_viewed_at'])\n",
    "merchants['joined_platform_date'] = pd.to_datetime(merchants['joined_platform_date'])\n"
   ]
  },
  {
   "cell_type": "markdown",
   "id": "84439d4d",
   "metadata": {},
   "source": [
    "## What proportion of merchants have had a successfully funded offer? Where in the customer journey do we see the most drop-off? What would you hypothesize is responsible?"
   ]
  },
  {
   "cell_type": "code",
   "execution_count": 97,
   "id": "a79303de",
   "metadata": {},
   "outputs": [],
   "source": [
    "f= merchant_offers[merchant_offers.accepted_amount.notna()& merchant_offers[\"offer_funded_at\"].notna()].business_id.nunique()"
   ]
  },
  {
   "cell_type": "code",
   "execution_count": 98,
   "id": "c35bb882",
   "metadata": {},
   "outputs": [
    {
     "name": "stdout",
     "output_type": "stream",
     "text": [
      "Count of Merchants have Funded Offer: 6961\n"
     ]
    }
   ],
   "source": [
    "print(f\"Count of Merchants have Funded Offer: {f}\")"
   ]
  },
  {
   "cell_type": "code",
   "execution_count": 94,
   "id": "90b9dc63",
   "metadata": {},
   "outputs": [
    {
     "name": "stdout",
     "output_type": "stream",
     "text": [
      "Count of Merchants have Offer Accepts: 7536\n"
     ]
    }
   ],
   "source": [
    "print(f\"Count of Merchants have Offer Accepts: {merchant_offers[merchant_offers.accepted_amount.notna()].business_id.nunique()}\")"
   ]
  },
  {
   "cell_type": "code",
   "execution_count": 95,
   "id": "4d3638f4",
   "metadata": {},
   "outputs": [
    {
     "name": "stdout",
     "output_type": "stream",
     "text": [
      "Count of Merchants have Offer Views : 14740\n"
     ]
    }
   ],
   "source": [
    "print(f\"Count of Merchants have Offer Views : {offer_views.business_id.nunique()}\")"
   ]
  },
  {
   "cell_type": "code",
   "execution_count": 100,
   "id": "79ab4a1b",
   "metadata": {},
   "outputs": [
    {
     "name": "stdout",
     "output_type": "stream",
     "text": [
      "Count of Merchants are Given Offers: 153788\n"
     ]
    }
   ],
   "source": [
    "print(f\"Count of Merchants are Given Offers: {merchant_offers.business_id.nunique()}\")"
   ]
  },
  {
   "cell_type": "raw",
   "id": "1f493b9b",
   "metadata": {},
   "source": [
    "153788 merchants were offered offers, 14740 viewed their offers, 7536 accepted the offer and 6961 had a successful funded offer(funded date is not null). Offer viewing has the most drop off in client journey while we also see a merchant may receive a lot of offer views in short period of time. The short time duration between offer create time and offer close time may be a main reason. Furthermore, the high fee_multiplier as well as a comparatively low offer_amount_max will prevent some merchants from accepting the offer."
   ]
  },
  {
   "cell_type": "markdown",
   "id": "7e47fdf1",
   "metadata": {},
   "source": [
    "## How successful have we been at acquiring new customers over time? How long does a merchant typically take to accept their first offer? How would you explain these trends?¶"
   ]
  },
  {
   "cell_type": "raw",
   "id": "30839582",
   "metadata": {},
   "source": [
    "I assume the successful acquired new customers represents the merchant accept the offer."
   ]
  },
  {
   "cell_type": "code",
   "execution_count": 102,
   "id": "0885f18d",
   "metadata": {},
   "outputs": [
    {
     "name": "stderr",
     "output_type": "stream",
     "text": [
      "<ipython-input-102-f6238e4b216d>:3: SettingWithCopyWarning: \n",
      "A value is trying to be set on a copy of a slice from a DataFrame.\n",
      "Try using .loc[row_indexer,col_indexer] = value instead\n",
      "\n",
      "See the caveats in the documentation: https://pandas.pydata.org/pandas-docs/stable/user_guide/indexing.html#returning-a-view-versus-a-copy\n",
      "  df[new_column] = df[\"offer_accepted_at\"].dt.to_period('M')\n"
     ]
    },
    {
     "data": {
      "text/html": [
       "<div>\n",
       "<style scoped>\n",
       "    .dataframe tbody tr th:only-of-type {\n",
       "        vertical-align: middle;\n",
       "    }\n",
       "\n",
       "    .dataframe tbody tr th {\n",
       "        vertical-align: top;\n",
       "    }\n",
       "\n",
       "    .dataframe thead th {\n",
       "        text-align: right;\n",
       "    }\n",
       "</style>\n",
       "<table border=\"1\" class=\"dataframe\">\n",
       "  <thead>\n",
       "    <tr style=\"text-align: right;\">\n",
       "      <th></th>\n",
       "      <th>business_id</th>\n",
       "      <th>offer_created_at</th>\n",
       "      <th>offer_closed_at</th>\n",
       "      <th>offer_accepted_at</th>\n",
       "      <th>offer_funded_at</th>\n",
       "      <th>merchant_daily_sales_forecast</th>\n",
       "      <th>offer_amount_max</th>\n",
       "      <th>fee_multiplier</th>\n",
       "      <th>accepted_amount</th>\n",
       "      <th>acceptance_number</th>\n",
       "      <th>year_month</th>\n",
       "    </tr>\n",
       "  </thead>\n",
       "  <tbody>\n",
       "    <tr>\n",
       "      <th>607</th>\n",
       "      <td>031db098-6d32-4bc7-84f6-f322aa20c61e</td>\n",
       "      <td>2021-05-19 05:14:53.504000</td>\n",
       "      <td>2021-06-19 06:59:59</td>\n",
       "      <td>2021-05-19 16:29:15.015000</td>\n",
       "      <td>2021-08-17 21:31:23.810000</td>\n",
       "      <td>374.67</td>\n",
       "      <td>11550.0</td>\n",
       "      <td>0.06712</td>\n",
       "      <td>11550.0</td>\n",
       "      <td>1.0</td>\n",
       "      <td>2021-05</td>\n",
       "    </tr>\n",
       "    <tr>\n",
       "      <th>1173</th>\n",
       "      <td>053427c8-e075-479a-ba5c-a3788321b116</td>\n",
       "      <td>2022-07-06 00:53:27.970068</td>\n",
       "      <td>2022-07-28 06:59:59</td>\n",
       "      <td>2022-07-06 01:09:10.651208</td>\n",
       "      <td>2022-07-06 07:01:11.572828</td>\n",
       "      <td>211.52</td>\n",
       "      <td>7150.0</td>\n",
       "      <td>0.11080</td>\n",
       "      <td>6600.0</td>\n",
       "      <td>3.0</td>\n",
       "      <td>2022-07</td>\n",
       "    </tr>\n",
       "    <tr>\n",
       "      <th>1175</th>\n",
       "      <td>053427c8-e075-479a-ba5c-a3788321b116</td>\n",
       "      <td>2021-10-07 21:48:02.764000</td>\n",
       "      <td>2021-11-07 06:59:59</td>\n",
       "      <td>2021-11-01 13:19:05.839000</td>\n",
       "      <td>2021-11-01 13:42:06.782000</td>\n",
       "      <td>138.86</td>\n",
       "      <td>2860.0</td>\n",
       "      <td>0.06216</td>\n",
       "      <td>2860.0</td>\n",
       "      <td>1.0</td>\n",
       "      <td>2021-11</td>\n",
       "    </tr>\n",
       "    <tr>\n",
       "      <th>1185</th>\n",
       "      <td>053427c8-e075-479a-ba5c-a3788321b116</td>\n",
       "      <td>2022-02-10 01:05:08.698201</td>\n",
       "      <td>2022-03-12 07:59:59</td>\n",
       "      <td>2022-03-08 15:31:38.290595</td>\n",
       "      <td>2022-03-08 15:41:05.332044</td>\n",
       "      <td>181.29</td>\n",
       "      <td>4400.0</td>\n",
       "      <td>0.08080</td>\n",
       "      <td>4400.0</td>\n",
       "      <td>2.0</td>\n",
       "      <td>2022-03</td>\n",
       "    </tr>\n",
       "    <tr>\n",
       "      <th>1984</th>\n",
       "      <td>07ac58ba-b3b8-4c6c-af62-0b961f236f5d</td>\n",
       "      <td>2022-03-05 02:17:17.112737</td>\n",
       "      <td>2022-04-04 06:59:59</td>\n",
       "      <td>2022-03-28 16:35:51.965106</td>\n",
       "      <td>2022-03-30 07:01:04.534972</td>\n",
       "      <td>100.41</td>\n",
       "      <td>2090.0</td>\n",
       "      <td>0.07360</td>\n",
       "      <td>2090.0</td>\n",
       "      <td>1.0</td>\n",
       "      <td>2022-03</td>\n",
       "    </tr>\n",
       "  </tbody>\n",
       "</table>\n",
       "</div>"
      ],
      "text/plain": [
       "                               business_id           offer_created_at  \\\n",
       "607   031db098-6d32-4bc7-84f6-f322aa20c61e 2021-05-19 05:14:53.504000   \n",
       "1173  053427c8-e075-479a-ba5c-a3788321b116 2022-07-06 00:53:27.970068   \n",
       "1175  053427c8-e075-479a-ba5c-a3788321b116 2021-10-07 21:48:02.764000   \n",
       "1185  053427c8-e075-479a-ba5c-a3788321b116 2022-02-10 01:05:08.698201   \n",
       "1984  07ac58ba-b3b8-4c6c-af62-0b961f236f5d 2022-03-05 02:17:17.112737   \n",
       "\n",
       "         offer_closed_at          offer_accepted_at  \\\n",
       "607  2021-06-19 06:59:59 2021-05-19 16:29:15.015000   \n",
       "1173 2022-07-28 06:59:59 2022-07-06 01:09:10.651208   \n",
       "1175 2021-11-07 06:59:59 2021-11-01 13:19:05.839000   \n",
       "1185 2022-03-12 07:59:59 2022-03-08 15:31:38.290595   \n",
       "1984 2022-04-04 06:59:59 2022-03-28 16:35:51.965106   \n",
       "\n",
       "                offer_funded_at  merchant_daily_sales_forecast  \\\n",
       "607  2021-08-17 21:31:23.810000                         374.67   \n",
       "1173 2022-07-06 07:01:11.572828                         211.52   \n",
       "1175 2021-11-01 13:42:06.782000                         138.86   \n",
       "1185 2022-03-08 15:41:05.332044                         181.29   \n",
       "1984 2022-03-30 07:01:04.534972                         100.41   \n",
       "\n",
       "      offer_amount_max  fee_multiplier  accepted_amount  acceptance_number  \\\n",
       "607            11550.0         0.06712          11550.0                1.0   \n",
       "1173            7150.0         0.11080           6600.0                3.0   \n",
       "1175            2860.0         0.06216           2860.0                1.0   \n",
       "1185            4400.0         0.08080           4400.0                2.0   \n",
       "1984            2090.0         0.07360           2090.0                1.0   \n",
       "\n",
       "     year_month  \n",
       "607     2021-05  \n",
       "1173    2022-07  \n",
       "1175    2021-11  \n",
       "1185    2022-03  \n",
       "1984    2022-03  "
      ]
     },
     "execution_count": 102,
     "metadata": {},
     "output_type": "execute_result"
    }
   ],
   "source": [
    "df1 = merchant_offers[merchant_offers.accepted_amount.notna()]\n",
    "def concat_year_month(df, time_column='offer_accepted_at', new_column='year_month'):\n",
    "    df[new_column] = df[\"offer_accepted_at\"].dt.to_period('M')\n",
    "    return df\n",
    "\n",
    "concat_year_month(df1).head()"
   ]
  },
  {
   "cell_type": "code",
   "execution_count": 103,
   "id": "a0cfc987",
   "metadata": {},
   "outputs": [],
   "source": [
    "p= df1.groupby('year_month').business_id.count().reset_index()"
   ]
  },
  {
   "cell_type": "code",
   "execution_count": 104,
   "id": "3958ca74",
   "metadata": {},
   "outputs": [
    {
     "data": {
      "image/png": "[encoded data removed]",
      "text/plain": [
       "<Figure size 720x432 with 1 Axes>"
      ]
     },
     "metadata": {
      "needs_background": "light"
     },
     "output_type": "display_data"
    }
   ],
   "source": [
    "import matplotlib.pyplot as plt\n",
    "\n",
    "# Assuming your DataFrame is named df\n",
    "plt.figure(figsize=(10, 6))  # Adjust the figure size if needed\n",
    "plt.plot(p['year_month'].astype(str), p['business_id'], marker='o', linestyle='-', color='b')\n",
    "#plt.title('Count of Accepted Offers Over Time')\n",
    "plt.xlabel('Year-Month')\n",
    "plt.ylabel('Count of Accepted Offers Over Time')\n",
    "plt.xticks(rotation=45)  # Rotate x-axis labels for better readability\n",
    "plt.grid(True)\n",
    "plt.tight_layout()  # Adjust layout for better display\n",
    "plt.show()"
   ]
  },
  {
   "cell_type": "code",
   "execution_count": 105,
   "id": "0a9ac8fb",
   "metadata": {},
   "outputs": [],
   "source": [
    "df2 = df1[df1[\"acceptance_number\"] == 1]"
   ]
  },
  {
   "cell_type": "code",
   "execution_count": 106,
   "id": "a487631c",
   "metadata": {},
   "outputs": [
    {
     "name": "stderr",
     "output_type": "stream",
     "text": [
      "<ipython-input-106-03b397826210>:1: SettingWithCopyWarning: \n",
      "A value is trying to be set on a copy of a slice from a DataFrame.\n",
      "Try using .loc[row_indexer,col_indexer] = value instead\n",
      "\n",
      "See the caveats in the documentation: https://pandas.pydata.org/pandas-docs/stable/user_guide/indexing.html#returning-a-view-versus-a-copy\n",
      "  df2['accept_duration_days'] = (df2['offer_accepted_at'] - df2['offer_created_at']).dt.days\n"
     ]
    }
   ],
   "source": [
    "df2['accept_duration_days'] = (df2['offer_accepted_at'] - df2['offer_created_at']).dt.days\n"
   ]
  },
  {
   "cell_type": "code",
   "execution_count": 115,
   "id": "f5ef26f8",
   "metadata": {},
   "outputs": [
    {
     "data": {
      "text/html": [
       "<div>\n",
       "<style scoped>\n",
       "    .dataframe tbody tr th:only-of-type {\n",
       "        vertical-align: middle;\n",
       "    }\n",
       "\n",
       "    .dataframe tbody tr th {\n",
       "        vertical-align: top;\n",
       "    }\n",
       "\n",
       "    .dataframe thead th {\n",
       "        text-align: right;\n",
       "    }\n",
       "</style>\n",
       "<table border=\"1\" class=\"dataframe\">\n",
       "  <thead>\n",
       "    <tr style=\"text-align: right;\">\n",
       "      <th></th>\n",
       "      <th>year_month</th>\n",
       "      <th>accept_duration_days</th>\n",
       "    </tr>\n",
       "  </thead>\n",
       "  <tbody>\n",
       "    <tr>\n",
       "      <th>0</th>\n",
       "      <td>2021-03</td>\n",
       "      <td>0.533333</td>\n",
       "    </tr>\n",
       "    <tr>\n",
       "      <th>1</th>\n",
       "      <td>2021-04</td>\n",
       "      <td>1.333333</td>\n",
       "    </tr>\n",
       "    <tr>\n",
       "      <th>2</th>\n",
       "      <td>2021-05</td>\n",
       "      <td>1.066667</td>\n",
       "    </tr>\n",
       "    <tr>\n",
       "      <th>3</th>\n",
       "      <td>2021-06</td>\n",
       "      <td>3.714286</td>\n",
       "    </tr>\n",
       "    <tr>\n",
       "      <th>4</th>\n",
       "      <td>2021-07</td>\n",
       "      <td>3.906977</td>\n",
       "    </tr>\n",
       "    <tr>\n",
       "      <th>5</th>\n",
       "      <td>2021-08</td>\n",
       "      <td>4.613636</td>\n",
       "    </tr>\n",
       "    <tr>\n",
       "      <th>6</th>\n",
       "      <td>2021-09</td>\n",
       "      <td>2.840000</td>\n",
       "    </tr>\n",
       "    <tr>\n",
       "      <th>7</th>\n",
       "      <td>2021-10</td>\n",
       "      <td>12.115789</td>\n",
       "    </tr>\n",
       "    <tr>\n",
       "      <th>8</th>\n",
       "      <td>2021-11</td>\n",
       "      <td>8.286783</td>\n",
       "    </tr>\n",
       "    <tr>\n",
       "      <th>9</th>\n",
       "      <td>2021-12</td>\n",
       "      <td>16.596923</td>\n",
       "    </tr>\n",
       "    <tr>\n",
       "      <th>10</th>\n",
       "      <td>2022-01</td>\n",
       "      <td>13.935714</td>\n",
       "    </tr>\n",
       "    <tr>\n",
       "      <th>11</th>\n",
       "      <td>2022-02</td>\n",
       "      <td>9.389078</td>\n",
       "    </tr>\n",
       "    <tr>\n",
       "      <th>12</th>\n",
       "      <td>2022-03</td>\n",
       "      <td>16.063043</td>\n",
       "    </tr>\n",
       "    <tr>\n",
       "      <th>13</th>\n",
       "      <td>2022-04</td>\n",
       "      <td>14.293878</td>\n",
       "    </tr>\n",
       "    <tr>\n",
       "      <th>14</th>\n",
       "      <td>2022-05</td>\n",
       "      <td>9.353035</td>\n",
       "    </tr>\n",
       "    <tr>\n",
       "      <th>15</th>\n",
       "      <td>2022-06</td>\n",
       "      <td>13.054140</td>\n",
       "    </tr>\n",
       "    <tr>\n",
       "      <th>16</th>\n",
       "      <td>2022-07</td>\n",
       "      <td>7.215517</td>\n",
       "    </tr>\n",
       "    <tr>\n",
       "      <th>17</th>\n",
       "      <td>2022-08</td>\n",
       "      <td>9.745698</td>\n",
       "    </tr>\n",
       "    <tr>\n",
       "      <th>18</th>\n",
       "      <td>2022-09</td>\n",
       "      <td>6.865031</td>\n",
       "    </tr>\n",
       "    <tr>\n",
       "      <th>19</th>\n",
       "      <td>2022-10</td>\n",
       "      <td>4.918142</td>\n",
       "    </tr>\n",
       "    <tr>\n",
       "      <th>20</th>\n",
       "      <td>2022-11</td>\n",
       "      <td>7.148069</td>\n",
       "    </tr>\n",
       "    <tr>\n",
       "      <th>21</th>\n",
       "      <td>2022-12</td>\n",
       "      <td>5.161215</td>\n",
       "    </tr>\n",
       "    <tr>\n",
       "      <th>22</th>\n",
       "      <td>2023-01</td>\n",
       "      <td>6.439331</td>\n",
       "    </tr>\n",
       "    <tr>\n",
       "      <th>23</th>\n",
       "      <td>2023-02</td>\n",
       "      <td>5.763636</td>\n",
       "    </tr>\n",
       "    <tr>\n",
       "      <th>24</th>\n",
       "      <td>2023-03</td>\n",
       "      <td>5.255034</td>\n",
       "    </tr>\n",
       "    <tr>\n",
       "      <th>25</th>\n",
       "      <td>2023-04</td>\n",
       "      <td>8.857143</td>\n",
       "    </tr>\n",
       "  </tbody>\n",
       "</table>\n",
       "</div>"
      ],
      "text/plain": [
       "   year_month  accept_duration_days\n",
       "0     2021-03              0.533333\n",
       "1     2021-04              1.333333\n",
       "2     2021-05              1.066667\n",
       "3     2021-06              3.714286\n",
       "4     2021-07              3.906977\n",
       "5     2021-08              4.613636\n",
       "6     2021-09              2.840000\n",
       "7     2021-10             12.115789\n",
       "8     2021-11              8.286783\n",
       "9     2021-12             16.596923\n",
       "10    2022-01             13.935714\n",
       "11    2022-02              9.389078\n",
       "12    2022-03             16.063043\n",
       "13    2022-04             14.293878\n",
       "14    2022-05              9.353035\n",
       "15    2022-06             13.054140\n",
       "16    2022-07              7.215517\n",
       "17    2022-08              9.745698\n",
       "18    2022-09              6.865031\n",
       "19    2022-10              4.918142\n",
       "20    2022-11              7.148069\n",
       "21    2022-12              5.161215\n",
       "22    2023-01              6.439331\n",
       "23    2023-02              5.763636\n",
       "24    2023-03              5.255034\n",
       "25    2023-04              8.857143"
      ]
     },
     "execution_count": 115,
     "metadata": {},
     "output_type": "execute_result"
    }
   ],
   "source": [
    "df2.groupby('year_month').accept_duration_days.mean().reset_index()"
   ]
  },
  {
   "cell_type": "code",
   "execution_count": 109,
   "id": "6ec56b9c",
   "metadata": {},
   "outputs": [
    {
     "name": "stderr",
     "output_type": "stream",
     "text": [
      "<ipython-input-109-3bd9fe2b65f8>:1: SettingWithCopyWarning: \n",
      "A value is trying to be set on a copy of a slice from a DataFrame.\n",
      "Try using .loc[row_indexer,col_indexer] = value instead\n",
      "\n",
      "See the caveats in the documentation: https://pandas.pydata.org/pandas-docs/stable/user_guide/indexing.html#returning-a-view-versus-a-copy\n",
      "  df2['offer_duration_days'] = (df2['offer_closed_at'] - df2['offer_created_at']).dt.days\n"
     ]
    }
   ],
   "source": [
    "df2['offer_duration_days'] = (df2['offer_closed_at'] - df2['offer_created_at']).dt.days\n"
   ]
  },
  {
   "cell_type": "code",
   "execution_count": 113,
   "id": "e1ccb816",
   "metadata": {},
   "outputs": [
    {
     "name": "stdout",
     "output_type": "stream",
     "text": [
      "Days of the offer duration: 20.5\n"
     ]
    }
   ],
   "source": [
    "df2.accept_duration_days.mean()\n",
    "print(f\"Days of the offer duration: {round(df2.offer_duration_days.mean(),1)}\")\n"
   ]
  },
  {
   "cell_type": "code",
   "execution_count": 114,
   "id": "89b3df21",
   "metadata": {},
   "outputs": [
    {
     "name": "stdout",
     "output_type": "stream",
     "text": [
      "Days a merchant typically take to accept their first offer: 9.1\n"
     ]
    }
   ],
   "source": [
    "print(f\"Days a merchant typically take to accept their first offer: {round(df2.accept_duration_days.mean(),1)}\")\n"
   ]
  },
  {
   "cell_type": "raw",
   "id": "d557f716",
   "metadata": {},
   "source": [
    "Judged by the line chart, we start to grow the accepted offers merchants base from the end of 2021 during covid. We do see the trend went up from 2022 matching the climbing interest rate at same period which led more small businesses crave for cash advance offers from our company. The time to accept the offers on average would be 9 days. I do see the accept_duration_days went up from 2021-10, seems like merchants took more time to consider the offers from different platforms to meet their demands, especially in 2022."
   ]
  },
  {
   "cell_type": "markdown",
   "id": "e190f303",
   "metadata": {},
   "source": [
    "## What attributes of a business, or of an offer, are more likely to result in an acceptance? How would you predict what merchants are most likely to convert? What other information about these merchants would you like to have, to make your prediction more accurate?"
   ]
  },
  {
   "cell_type": "code",
   "execution_count": 116,
   "id": "4b1b8067",
   "metadata": {},
   "outputs": [],
   "source": [
    "# Lets join all three tables together to get the final table, with views_count as a count value since we have no offer_id\n",
    "offers = merchant_offers.business_id.value_counts().reset_index().rename(columns={'index': 'business_id','business_id': 'offer_count'})\n",
    "views = offer_views.groupby('business_id').count().reset_index()\n",
    "accept = df1.groupby('business_id').offer_created_at.count().reset_index()\n",
    "data1 = pd.merge(offers,views, how = 'left',on = 'business_id')\n",
    "data2 = pd.merge(data1,accept, how = 'left',on = 'business_id')\n",
    "data3 = pd.merge(data2, merchants, how = 'left',on = 'business_id')\n",
    "data3.rename(columns={'offer_viewed_at': 'views_count', 'offer_created_at': 'accepts_count'}, inplace=True)\n",
    "final = pd.merge(merchant_offers, data3, how = 'left',on = 'business_id')\n",
    "# create two columns: offers_duration and join_duration_months \n",
    "final[\"offers_duration\"] = (final['offer_closed_at'] - final['offer_created_at']).dt.days\n",
    "final[\"join_duration_months\"] = (final['offer_created_at'] - final['joined_platform_date']).dt.days//30"
   ]
  },
  {
   "cell_type": "code",
   "execution_count": 118,
   "id": "4f64cf9b",
   "metadata": {},
   "outputs": [
    {
     "data": {
      "text/html": [
       "<div>\n",
       "<style scoped>\n",
       "    .dataframe tbody tr th:only-of-type {\n",
       "        vertical-align: middle;\n",
       "    }\n",
       "\n",
       "    .dataframe tbody tr th {\n",
       "        vertical-align: top;\n",
       "    }\n",
       "\n",
       "    .dataframe thead th {\n",
       "        text-align: right;\n",
       "    }\n",
       "</style>\n",
       "<table border=\"1\" class=\"dataframe\">\n",
       "  <thead>\n",
       "    <tr style=\"text-align: right;\">\n",
       "      <th></th>\n",
       "      <th>business_id</th>\n",
       "      <th>offer_created_at</th>\n",
       "      <th>offer_closed_at</th>\n",
       "      <th>offer_accepted_at</th>\n",
       "      <th>offer_funded_at</th>\n",
       "      <th>merchant_daily_sales_forecast</th>\n",
       "      <th>offer_amount_max</th>\n",
       "      <th>fee_multiplier</th>\n",
       "      <th>accepted_amount</th>\n",
       "      <th>acceptance_number</th>\n",
       "      <th>offer_count</th>\n",
       "      <th>views_count</th>\n",
       "      <th>accepts_count</th>\n",
       "      <th>segment</th>\n",
       "      <th>state</th>\n",
       "      <th>market</th>\n",
       "      <th>joined_platform_date</th>\n",
       "      <th>offers_duration</th>\n",
       "      <th>join_duration_months</th>\n",
       "    </tr>\n",
       "  </thead>\n",
       "  <tbody>\n",
       "    <tr>\n",
       "      <th>0</th>\n",
       "      <td>0019224d-13e9-45d0-9581-743a5b5d38a6</td>\n",
       "      <td>2023-01-18 04:39:01.093309</td>\n",
       "      <td>2023-02-01 07:59:59</td>\n",
       "      <td>NaT</td>\n",
       "      <td>NaT</td>\n",
       "      <td>258.00</td>\n",
       "      <td>15400.0</td>\n",
       "      <td>0.11304</td>\n",
       "      <td>NaN</td>\n",
       "      <td>NaN</td>\n",
       "      <td>34</td>\n",
       "      <td>NaN</td>\n",
       "      <td>NaN</td>\n",
       "      <td>MANAGED</td>\n",
       "      <td>IN</td>\n",
       "      <td>Chicago</td>\n",
       "      <td>2018-09-03</td>\n",
       "      <td>14</td>\n",
       "      <td>53</td>\n",
       "    </tr>\n",
       "    <tr>\n",
       "      <th>1</th>\n",
       "      <td>0019224d-13e9-45d0-9581-743a5b5d38a6</td>\n",
       "      <td>2022-12-21 05:32:32.269204</td>\n",
       "      <td>2023-01-04 07:59:59</td>\n",
       "      <td>NaT</td>\n",
       "      <td>NaT</td>\n",
       "      <td>246.07</td>\n",
       "      <td>15400.0</td>\n",
       "      <td>0.09824</td>\n",
       "      <td>NaN</td>\n",
       "      <td>NaN</td>\n",
       "      <td>34</td>\n",
       "      <td>NaN</td>\n",
       "      <td>NaN</td>\n",
       "      <td>MANAGED</td>\n",
       "      <td>IN</td>\n",
       "      <td>Chicago</td>\n",
       "      <td>2018-09-03</td>\n",
       "      <td>14</td>\n",
       "      <td>52</td>\n",
       "    </tr>\n",
       "    <tr>\n",
       "      <th>2</th>\n",
       "      <td>0019224d-13e9-45d0-9581-743a5b5d38a6</td>\n",
       "      <td>2022-01-09 02:08:45.912000</td>\n",
       "      <td>2022-02-04 07:59:59</td>\n",
       "      <td>NaT</td>\n",
       "      <td>NaT</td>\n",
       "      <td>195.59</td>\n",
       "      <td>5500.0</td>\n",
       "      <td>0.07520</td>\n",
       "      <td>NaN</td>\n",
       "      <td>NaN</td>\n",
       "      <td>34</td>\n",
       "      <td>NaN</td>\n",
       "      <td>NaN</td>\n",
       "      <td>MANAGED</td>\n",
       "      <td>IN</td>\n",
       "      <td>Chicago</td>\n",
       "      <td>2018-09-03</td>\n",
       "      <td>26</td>\n",
       "      <td>40</td>\n",
       "    </tr>\n",
       "    <tr>\n",
       "      <th>3</th>\n",
       "      <td>0019224d-13e9-45d0-9581-743a5b5d38a6</td>\n",
       "      <td>2023-03-02 04:53:57.517703</td>\n",
       "      <td>2023-03-16 06:59:59</td>\n",
       "      <td>NaT</td>\n",
       "      <td>NaT</td>\n",
       "      <td>306.47</td>\n",
       "      <td>11000.0</td>\n",
       "      <td>0.10792</td>\n",
       "      <td>NaN</td>\n",
       "      <td>NaN</td>\n",
       "      <td>34</td>\n",
       "      <td>NaN</td>\n",
       "      <td>NaN</td>\n",
       "      <td>MANAGED</td>\n",
       "      <td>IN</td>\n",
       "      <td>Chicago</td>\n",
       "      <td>2018-09-03</td>\n",
       "      <td>14</td>\n",
       "      <td>54</td>\n",
       "    </tr>\n",
       "    <tr>\n",
       "      <th>4</th>\n",
       "      <td>0019224d-13e9-45d0-9581-743a5b5d38a6</td>\n",
       "      <td>2022-04-10 01:11:34.597518</td>\n",
       "      <td>2022-05-02 06:59:59</td>\n",
       "      <td>NaT</td>\n",
       "      <td>NaT</td>\n",
       "      <td>258.99</td>\n",
       "      <td>6600.0</td>\n",
       "      <td>0.07448</td>\n",
       "      <td>NaN</td>\n",
       "      <td>NaN</td>\n",
       "      <td>34</td>\n",
       "      <td>NaN</td>\n",
       "      <td>NaN</td>\n",
       "      <td>MANAGED</td>\n",
       "      <td>IN</td>\n",
       "      <td>Chicago</td>\n",
       "      <td>2018-09-03</td>\n",
       "      <td>22</td>\n",
       "      <td>43</td>\n",
       "    </tr>\n",
       "  </tbody>\n",
       "</table>\n",
       "</div>"
      ],
      "text/plain": [
       "                            business_id           offer_created_at  \\\n",
       "0  0019224d-13e9-45d0-9581-743a5b5d38a6 2023-01-18 04:39:01.093309   \n",
       "1  0019224d-13e9-45d0-9581-743a5b5d38a6 2022-12-21 05:32:32.269204   \n",
       "2  0019224d-13e9-45d0-9581-743a5b5d38a6 2022-01-09 02:08:45.912000   \n",
       "3  0019224d-13e9-45d0-9581-743a5b5d38a6 2023-03-02 04:53:57.517703   \n",
       "4  0019224d-13e9-45d0-9581-743a5b5d38a6 2022-04-10 01:11:34.597518   \n",
       "\n",
       "      offer_closed_at offer_accepted_at offer_funded_at  \\\n",
       "0 2023-02-01 07:59:59               NaT             NaT   \n",
       "1 2023-01-04 07:59:59               NaT             NaT   \n",
       "2 2022-02-04 07:59:59               NaT             NaT   \n",
       "3 2023-03-16 06:59:59               NaT             NaT   \n",
       "4 2022-05-02 06:59:59               NaT             NaT   \n",
       "\n",
       "   merchant_daily_sales_forecast  offer_amount_max  fee_multiplier  \\\n",
       "0                         258.00           15400.0         0.11304   \n",
       "1                         246.07           15400.0         0.09824   \n",
       "2                         195.59            5500.0         0.07520   \n",
       "3                         306.47           11000.0         0.10792   \n",
       "4                         258.99            6600.0         0.07448   \n",
       "\n",
       "   accepted_amount  acceptance_number  offer_count  views_count  \\\n",
       "0              NaN                NaN           34          NaN   \n",
       "1              NaN                NaN           34          NaN   \n",
       "2              NaN                NaN           34          NaN   \n",
       "3              NaN                NaN           34          NaN   \n",
       "4              NaN                NaN           34          NaN   \n",
       "\n",
       "   accepts_count  segment state   market joined_platform_date  \\\n",
       "0            NaN  MANAGED    IN  Chicago           2018-09-03   \n",
       "1            NaN  MANAGED    IN  Chicago           2018-09-03   \n",
       "2            NaN  MANAGED    IN  Chicago           2018-09-03   \n",
       "3            NaN  MANAGED    IN  Chicago           2018-09-03   \n",
       "4            NaN  MANAGED    IN  Chicago           2018-09-03   \n",
       "\n",
       "   offers_duration  join_duration_months  \n",
       "0               14                    53  \n",
       "1               14                    52  \n",
       "2               26                    40  \n",
       "3               14                    54  \n",
       "4               22                    43  "
      ]
     },
     "execution_count": 118,
     "metadata": {},
     "output_type": "execute_result"
    }
   ],
   "source": [
    "final.head()"
   ]
  },
  {
   "cell_type": "code",
   "execution_count": 119,
   "id": "9c2360f1",
   "metadata": {},
   "outputs": [
    {
     "data": {
      "text/html": [
       "<div>\n",
       "<style scoped>\n",
       "    .dataframe tbody tr th:only-of-type {\n",
       "        vertical-align: middle;\n",
       "    }\n",
       "\n",
       "    .dataframe tbody tr th {\n",
       "        vertical-align: top;\n",
       "    }\n",
       "\n",
       "    .dataframe thead th {\n",
       "        text-align: right;\n",
       "    }\n",
       "</style>\n",
       "<table border=\"1\" class=\"dataframe\">\n",
       "  <thead>\n",
       "    <tr style=\"text-align: right;\">\n",
       "      <th></th>\n",
       "      <th>segment</th>\n",
       "      <th>accept_count</th>\n",
       "      <th>total_count</th>\n",
       "      <th>ratio</th>\n",
       "    </tr>\n",
       "  </thead>\n",
       "  <tbody>\n",
       "    <tr>\n",
       "      <th>0</th>\n",
       "      <td>UNMANAGED</td>\n",
       "      <td>6297</td>\n",
       "      <td>78828</td>\n",
       "      <td>0.079883</td>\n",
       "    </tr>\n",
       "    <tr>\n",
       "      <th>1</th>\n",
       "      <td>MANAGED</td>\n",
       "      <td>1143</td>\n",
       "      <td>40050</td>\n",
       "      <td>0.028539</td>\n",
       "    </tr>\n",
       "    <tr>\n",
       "      <th>2</th>\n",
       "      <td>ENTERPRISE</td>\n",
       "      <td>96</td>\n",
       "      <td>34910</td>\n",
       "      <td>0.002750</td>\n",
       "    </tr>\n",
       "  </tbody>\n",
       "</table>\n",
       "</div>"
      ],
      "text/plain": [
       "      segment  accept_count  total_count     ratio\n",
       "0   UNMANAGED          6297        78828  0.079883\n",
       "1     MANAGED          1143        40050  0.028539\n",
       "2  ENTERPRISE            96        34910  0.002750"
      ]
     },
     "execution_count": 119,
     "metadata": {},
     "output_type": "execute_result"
    }
   ],
   "source": [
    "# Calculate the accept ratio of different segment \n",
    "segment1 = data3[data3[\"accepts_count\"].notna()].segment.value_counts().reset_index().rename(columns= {'index':'segment','segment':'accept_count'})\n",
    "segment2 = data3.segment.value_counts().reset_index().rename(columns= {'index':'segment','segment':'total_count'})\n",
    "final_segment = segment1.merge(segment2, on=\"segment\")\n",
    "final_segment[\"ratio\"] = final_segment[\"accept_count\"]/final_segment[\"total_count\"]\n",
    "final_segment"
   ]
  },
  {
   "cell_type": "code",
   "execution_count": 120,
   "id": "5472c906",
   "metadata": {},
   "outputs": [],
   "source": [
    "# Calculate the accept ratio of different state\n",
    "state1 = data3[data3[\"accepts_count\"].notna()].state.value_counts().reset_index().rename(columns= {'index':'state','state':'accept_count'})\n",
    "state2 = data3.state.value_counts().reset_index().rename(columns= {'index':'state','state':'total_count'})\n",
    "final_state = state1.merge(state2, on=\"state\")\n",
    "final_state[\"ratio\"] = final_state[\"accept_count\"]/final_state[\"total_count\"]"
   ]
  },
  {
   "cell_type": "code",
   "execution_count": 53,
   "id": "3813cc73",
   "metadata": {},
   "outputs": [
    {
     "data": {
      "text/html": [
       "<div>\n",
       "<style scoped>\n",
       "    .dataframe tbody tr th:only-of-type {\n",
       "        vertical-align: middle;\n",
       "    }\n",
       "\n",
       "    .dataframe tbody tr th {\n",
       "        vertical-align: top;\n",
       "    }\n",
       "\n",
       "    .dataframe thead th {\n",
       "        text-align: right;\n",
       "    }\n",
       "</style>\n",
       "<table border=\"1\" class=\"dataframe\">\n",
       "  <thead>\n",
       "    <tr style=\"text-align: right;\">\n",
       "      <th></th>\n",
       "      <th>state</th>\n",
       "      <th>accept_count</th>\n",
       "      <th>total_count</th>\n",
       "      <th>ratio</th>\n",
       "    </tr>\n",
       "  </thead>\n",
       "  <tbody>\n",
       "    <tr>\n",
       "      <th>0</th>\n",
       "      <td>CA</td>\n",
       "      <td>1411</td>\n",
       "      <td>27597</td>\n",
       "      <td>0.051129</td>\n",
       "    </tr>\n",
       "    <tr>\n",
       "      <th>1</th>\n",
       "      <td>TX</td>\n",
       "      <td>622</td>\n",
       "      <td>13636</td>\n",
       "      <td>0.045615</td>\n",
       "    </tr>\n",
       "    <tr>\n",
       "      <th>2</th>\n",
       "      <td>NY</td>\n",
       "      <td>607</td>\n",
       "      <td>10861</td>\n",
       "      <td>0.055888</td>\n",
       "    </tr>\n",
       "    <tr>\n",
       "      <th>3</th>\n",
       "      <td>FL</td>\n",
       "      <td>458</td>\n",
       "      <td>9716</td>\n",
       "      <td>0.047139</td>\n",
       "    </tr>\n",
       "    <tr>\n",
       "      <th>4</th>\n",
       "      <td>NJ</td>\n",
       "      <td>372</td>\n",
       "      <td>5495</td>\n",
       "      <td>0.067698</td>\n",
       "    </tr>\n",
       "    <tr>\n",
       "      <th>5</th>\n",
       "      <td>PA</td>\n",
       "      <td>347</td>\n",
       "      <td>5202</td>\n",
       "      <td>0.066705</td>\n",
       "    </tr>\n",
       "    <tr>\n",
       "      <th>6</th>\n",
       "      <td>OH</td>\n",
       "      <td>295</td>\n",
       "      <td>5455</td>\n",
       "      <td>0.054079</td>\n",
       "    </tr>\n",
       "    <tr>\n",
       "      <th>7</th>\n",
       "      <td>IL</td>\n",
       "      <td>267</td>\n",
       "      <td>5503</td>\n",
       "      <td>0.048519</td>\n",
       "    </tr>\n",
       "    <tr>\n",
       "      <th>8</th>\n",
       "      <td>MI</td>\n",
       "      <td>221</td>\n",
       "      <td>4199</td>\n",
       "      <td>0.052632</td>\n",
       "    </tr>\n",
       "    <tr>\n",
       "      <th>9</th>\n",
       "      <td>GA</td>\n",
       "      <td>216</td>\n",
       "      <td>5112</td>\n",
       "      <td>0.042254</td>\n",
       "    </tr>\n",
       "    <tr>\n",
       "      <th>10</th>\n",
       "      <td>MA</td>\n",
       "      <td>199</td>\n",
       "      <td>3301</td>\n",
       "      <td>0.060285</td>\n",
       "    </tr>\n",
       "    <tr>\n",
       "      <th>11</th>\n",
       "      <td>VA</td>\n",
       "      <td>180</td>\n",
       "      <td>4336</td>\n",
       "      <td>0.041513</td>\n",
       "    </tr>\n",
       "    <tr>\n",
       "      <th>12</th>\n",
       "      <td>NC</td>\n",
       "      <td>171</td>\n",
       "      <td>4281</td>\n",
       "      <td>0.039944</td>\n",
       "    </tr>\n",
       "    <tr>\n",
       "      <th>13</th>\n",
       "      <td>WA</td>\n",
       "      <td>168</td>\n",
       "      <td>3987</td>\n",
       "      <td>0.042137</td>\n",
       "    </tr>\n",
       "    <tr>\n",
       "      <th>14</th>\n",
       "      <td>MD</td>\n",
       "      <td>162</td>\n",
       "      <td>3048</td>\n",
       "      <td>0.053150</td>\n",
       "    </tr>\n",
       "    <tr>\n",
       "      <th>15</th>\n",
       "      <td>AZ</td>\n",
       "      <td>147</td>\n",
       "      <td>3197</td>\n",
       "      <td>0.045981</td>\n",
       "    </tr>\n",
       "    <tr>\n",
       "      <th>16</th>\n",
       "      <td>CO</td>\n",
       "      <td>130</td>\n",
       "      <td>2606</td>\n",
       "      <td>0.049885</td>\n",
       "    </tr>\n",
       "    <tr>\n",
       "      <th>17</th>\n",
       "      <td>OR</td>\n",
       "      <td>123</td>\n",
       "      <td>2227</td>\n",
       "      <td>0.055231</td>\n",
       "    </tr>\n",
       "    <tr>\n",
       "      <th>18</th>\n",
       "      <td>IN</td>\n",
       "      <td>102</td>\n",
       "      <td>2503</td>\n",
       "      <td>0.040751</td>\n",
       "    </tr>\n",
       "    <tr>\n",
       "      <th>19</th>\n",
       "      <td>TN</td>\n",
       "      <td>91</td>\n",
       "      <td>2742</td>\n",
       "      <td>0.033187</td>\n",
       "    </tr>\n",
       "  </tbody>\n",
       "</table>\n",
       "</div>"
      ],
      "text/plain": [
       "   state  accept_count  total_count     ratio\n",
       "0     CA          1411        27597  0.051129\n",
       "1     TX           622        13636  0.045615\n",
       "2     NY           607        10861  0.055888\n",
       "3     FL           458         9716  0.047139\n",
       "4     NJ           372         5495  0.067698\n",
       "5     PA           347         5202  0.066705\n",
       "6     OH           295         5455  0.054079\n",
       "7     IL           267         5503  0.048519\n",
       "8     MI           221         4199  0.052632\n",
       "9     GA           216         5112  0.042254\n",
       "10    MA           199         3301  0.060285\n",
       "11    VA           180         4336  0.041513\n",
       "12    NC           171         4281  0.039944\n",
       "13    WA           168         3987  0.042137\n",
       "14    MD           162         3048  0.053150\n",
       "15    AZ           147         3197  0.045981\n",
       "16    CO           130         2606  0.049885\n",
       "17    OR           123         2227  0.055231\n",
       "18    IN           102         2503  0.040751\n",
       "19    TN            91         2742  0.033187"
      ]
     },
     "execution_count": 53,
     "metadata": {},
     "output_type": "execute_result"
    }
   ],
   "source": [
    "# CA, TX and NY has the highest accept_count and total_count of offers.\n",
    "final_state.sort_values(by = 'accept_count',ascending=False).head(20)"
   ]
  },
  {
   "cell_type": "code",
   "execution_count": 54,
   "id": "4bb9f728",
   "metadata": {},
   "outputs": [
    {
     "data": {
      "text/html": [
       "<div>\n",
       "<style scoped>\n",
       "    .dataframe tbody tr th:only-of-type {\n",
       "        vertical-align: middle;\n",
       "    }\n",
       "\n",
       "    .dataframe tbody tr th {\n",
       "        vertical-align: top;\n",
       "    }\n",
       "\n",
       "    .dataframe thead th {\n",
       "        text-align: right;\n",
       "    }\n",
       "</style>\n",
       "<table border=\"1\" class=\"dataframe\">\n",
       "  <thead>\n",
       "    <tr style=\"text-align: right;\">\n",
       "      <th></th>\n",
       "      <th>state</th>\n",
       "      <th>accept_count</th>\n",
       "      <th>total_count</th>\n",
       "      <th>ratio</th>\n",
       "    </tr>\n",
       "  </thead>\n",
       "  <tbody>\n",
       "    <tr>\n",
       "      <th>53</th>\n",
       "      <td>Caguas</td>\n",
       "      <td>1</td>\n",
       "      <td>4</td>\n",
       "      <td>0.250000</td>\n",
       "    </tr>\n",
       "    <tr>\n",
       "      <th>52</th>\n",
       "      <td>Toa Baja</td>\n",
       "      <td>1</td>\n",
       "      <td>5</td>\n",
       "      <td>0.200000</td>\n",
       "    </tr>\n",
       "    <tr>\n",
       "      <th>54</th>\n",
       "      <td>Ponce</td>\n",
       "      <td>1</td>\n",
       "      <td>8</td>\n",
       "      <td>0.125000</td>\n",
       "    </tr>\n",
       "    <tr>\n",
       "      <th>41</th>\n",
       "      <td>AK</td>\n",
       "      <td>24</td>\n",
       "      <td>277</td>\n",
       "      <td>0.086643</td>\n",
       "    </tr>\n",
       "    <tr>\n",
       "      <th>47</th>\n",
       "      <td>San Juan</td>\n",
       "      <td>11</td>\n",
       "      <td>129</td>\n",
       "      <td>0.085271</td>\n",
       "    </tr>\n",
       "    <tr>\n",
       "      <th>33</th>\n",
       "      <td>NH</td>\n",
       "      <td>37</td>\n",
       "      <td>458</td>\n",
       "      <td>0.080786</td>\n",
       "    </tr>\n",
       "    <tr>\n",
       "      <th>32</th>\n",
       "      <td>WV</td>\n",
       "      <td>39</td>\n",
       "      <td>487</td>\n",
       "      <td>0.080082</td>\n",
       "    </tr>\n",
       "    <tr>\n",
       "      <th>49</th>\n",
       "      <td>VT</td>\n",
       "      <td>7</td>\n",
       "      <td>89</td>\n",
       "      <td>0.078652</td>\n",
       "    </tr>\n",
       "    <tr>\n",
       "      <th>43</th>\n",
       "      <td>MT</td>\n",
       "      <td>18</td>\n",
       "      <td>250</td>\n",
       "      <td>0.072000</td>\n",
       "    </tr>\n",
       "    <tr>\n",
       "      <th>35</th>\n",
       "      <td>RI</td>\n",
       "      <td>33</td>\n",
       "      <td>486</td>\n",
       "      <td>0.067901</td>\n",
       "    </tr>\n",
       "    <tr>\n",
       "      <th>4</th>\n",
       "      <td>NJ</td>\n",
       "      <td>372</td>\n",
       "      <td>5495</td>\n",
       "      <td>0.067698</td>\n",
       "    </tr>\n",
       "    <tr>\n",
       "      <th>5</th>\n",
       "      <td>PA</td>\n",
       "      <td>347</td>\n",
       "      <td>5202</td>\n",
       "      <td>0.066705</td>\n",
       "    </tr>\n",
       "    <tr>\n",
       "      <th>34</th>\n",
       "      <td>DE</td>\n",
       "      <td>37</td>\n",
       "      <td>574</td>\n",
       "      <td>0.064460</td>\n",
       "    </tr>\n",
       "    <tr>\n",
       "      <th>10</th>\n",
       "      <td>MA</td>\n",
       "      <td>199</td>\n",
       "      <td>3301</td>\n",
       "      <td>0.060285</td>\n",
       "    </tr>\n",
       "    <tr>\n",
       "      <th>31</th>\n",
       "      <td>DC</td>\n",
       "      <td>40</td>\n",
       "      <td>707</td>\n",
       "      <td>0.056577</td>\n",
       "    </tr>\n",
       "    <tr>\n",
       "      <th>2</th>\n",
       "      <td>NY</td>\n",
       "      <td>607</td>\n",
       "      <td>10861</td>\n",
       "      <td>0.055888</td>\n",
       "    </tr>\n",
       "    <tr>\n",
       "      <th>17</th>\n",
       "      <td>OR</td>\n",
       "      <td>123</td>\n",
       "      <td>2227</td>\n",
       "      <td>0.055231</td>\n",
       "    </tr>\n",
       "    <tr>\n",
       "      <th>6</th>\n",
       "      <td>OH</td>\n",
       "      <td>295</td>\n",
       "      <td>5455</td>\n",
       "      <td>0.054079</td>\n",
       "    </tr>\n",
       "    <tr>\n",
       "      <th>14</th>\n",
       "      <td>MD</td>\n",
       "      <td>162</td>\n",
       "      <td>3048</td>\n",
       "      <td>0.053150</td>\n",
       "    </tr>\n",
       "    <tr>\n",
       "      <th>8</th>\n",
       "      <td>MI</td>\n",
       "      <td>221</td>\n",
       "      <td>4199</td>\n",
       "      <td>0.052632</td>\n",
       "    </tr>\n",
       "  </tbody>\n",
       "</table>\n",
       "</div>"
      ],
      "text/plain": [
       "       state  accept_count  total_count     ratio\n",
       "53    Caguas             1            4  0.250000\n",
       "52  Toa Baja             1            5  0.200000\n",
       "54     Ponce             1            8  0.125000\n",
       "41        AK            24          277  0.086643\n",
       "47  San Juan            11          129  0.085271\n",
       "33        NH            37          458  0.080786\n",
       "32        WV            39          487  0.080082\n",
       "49        VT             7           89  0.078652\n",
       "43        MT            18          250  0.072000\n",
       "35        RI            33          486  0.067901\n",
       "4         NJ           372         5495  0.067698\n",
       "5         PA           347         5202  0.066705\n",
       "34        DE            37          574  0.064460\n",
       "10        MA           199         3301  0.060285\n",
       "31        DC            40          707  0.056577\n",
       "2         NY           607        10861  0.055888\n",
       "17        OR           123         2227  0.055231\n",
       "6         OH           295         5455  0.054079\n",
       "14        MD           162         3048  0.053150\n",
       "8         MI           221         4199  0.052632"
      ]
     },
     "execution_count": 54,
     "metadata": {},
     "output_type": "execute_result"
    }
   ],
   "source": [
    "# While accept ratio is higher for some small states like AK, NH , WV. There is not very big difference between each state.\n",
    "final_state.sort_values(by = 'ratio',ascending=False).head(20)"
   ]
  },
  {
   "cell_type": "code",
   "execution_count": 121,
   "id": "db68fe1d",
   "metadata": {},
   "outputs": [
    {
     "data": {
      "text/plain": [
       "New York               800\n",
       "Southern California    757\n",
       "Northern California    649\n",
       "Philadelphia           393\n",
       "Boston                 346\n",
       "Name: market, dtype: int64"
      ]
     },
     "execution_count": 121,
     "metadata": {},
     "output_type": "execute_result"
    }
   ],
   "source": [
    "# The best market is still in NY, CA\n",
    "data3[data3[\"accepts_count\"].notna()].market.value_counts().head()\n"
   ]
  },
  {
   "cell_type": "raw",
   "id": "3a5d7cbf",
   "metadata": {},
   "source": [
    "Based on a general analysis, unmanaged segment are more likely to result to offer accepts compared to managed and enterprise concerned higher accept ratio. Although states like CA, TX and NY are the top states with accepts but they are also among the top states in receiving the offers.The offer accept ratio of states is pretty close while i do see some low population state including AK, NH and RI have a comparatively higher offer accept ratio (while small in number). Turns out that there are more opportunites to explore in these states assuming that these states have fewer cash advance support from big banks. Last but not least, no deny big city like New York , South Cali , North Cali and Philly has the most offer accepts. They are our long term target."
   ]
  },
  {
   "cell_type": "code",
   "execution_count": 122,
   "id": "563e3567",
   "metadata": {},
   "outputs": [],
   "source": [
    "# In order to understand what are more likely to result in an accpetance, i am thinking of creating a linear regreesion (logistic regression)\n",
    "# deal with NA in linear regression \n",
    "final['accepted'] = final['accepts_count'].notnull().astype(int)\n",
    "final.accepted_amount.fillna(0, inplace=True)\n",
    "final.acceptance_number.fillna(0, inplace=True)\n",
    "final.views_count.fillna(0, inplace=True)\n",
    "final.accepts_count.fillna(0, inplace=True)"
   ]
  },
  {
   "cell_type": "code",
   "execution_count": 124,
   "id": "be8ba1a1",
   "metadata": {},
   "outputs": [
    {
     "data": {
      "image/png": "[encoded data removed]",
      "text/plain": [
       "<Figure size 576x432 with 2 Axes>"
      ]
     },
     "metadata": {
      "needs_background": "light"
     },
     "output_type": "display_data"
    }
   ],
   "source": [
    "# do a correlation chart first to avoid multicollinearity, offer_amount_max and merchant daily sales forecast are highly correlated, remove merchant daily sales forecast in the model\n",
    "selected_columns = ['merchant_daily_sales_forecast', 'offer_amount_max', 'fee_multiplier','offer_count','views_count','offers_duration','join_duration_months','accepts_count']\n",
    "selected_df = final[selected_columns]\n",
    "\n",
    "# Calculate the correlation matrix\n",
    "correlation_matrix = selected_df.corr()\n",
    "\n",
    "# Create a heatmap\n",
    "plt.figure(figsize=(8, 6))\n",
    "sns.heatmap(correlation_matrix, annot=True, cmap='coolwarm', fmt=\".2f\")\n",
    "plt.title('Correlation Matrix of Selected Columns')\n",
    "plt.show()"
   ]
  },
  {
   "cell_type": "code",
   "execution_count": 125,
   "id": "b1ac4c22",
   "metadata": {},
   "outputs": [
    {
     "name": "stderr",
     "output_type": "stream",
     "text": [
      "/Users/yunzhonggao/opt/anaconda3/lib/python3.8/site-packages/statsmodels/genmod/families/links.py:188: RuntimeWarning: overflow encountered in exp\n",
      "  t = np.exp(-z)\n",
      "/Users/yunzhonggao/opt/anaconda3/lib/python3.8/site-packages/statsmodels/genmod/families/family.py:947: RuntimeWarning: divide by zero encountered in log\n",
      "  y * np.log(mu / (1 - mu + 1e-20)) +\n",
      "/Users/yunzhonggao/opt/anaconda3/lib/python3.8/site-packages/statsmodels/genmod/families/family.py:947: RuntimeWarning: invalid value encountered in multiply\n",
      "  y * np.log(mu / (1 - mu + 1e-20)) +\n"
     ]
    },
    {
     "name": "stdout",
     "output_type": "stream",
     "text": [
      "                 Generalized Linear Model Regression Results                  \n",
      "==============================================================================\n",
      "Dep. Variable:          accepts_count   No. Observations:              4768484\n",
      "Model:                            GLM   Df Residuals:                  4768477\n",
      "Model Family:                Binomial   Df Model:                            6\n",
      "Link Function:                  logit   Scale:                          1.0000\n",
      "Method:                          IRLS   Log-Likelihood:                    nan\n",
      "Date:                Fri, 29 Dec 2023   Deviance:                   3.4427e+07\n",
      "Time:                        10:19:44   Pearson chi2:                 2.99e+21\n",
      "No. Iterations:                    19                                         \n",
      "Covariance Type:            nonrobust                                         \n",
      "========================================================================================\n",
      "                           coef    std err          z      P>|z|      [0.025      0.975]\n",
      "----------------------------------------------------------------------------------------\n",
      "Intercept              -6.9e+14   2.38e+05  -2.89e+09      0.000    -6.9e+14    -6.9e+14\n",
      "offer_amount_max     -3.592e+10      2.350  -1.53e+10      0.000   -3.59e+10   -3.59e+10\n",
      "fee_multiplier        -9.57e+15   2.14e+06  -4.47e+09      0.000   -9.57e+15   -9.57e+15\n",
      "offer_count          -1.896e+13    703.491   -2.7e+10      0.000    -1.9e+13    -1.9e+13\n",
      "views_count           5.837e+15   1.67e+04    3.5e+11      0.000    5.84e+15    5.84e+15\n",
      "offers_duration        8.74e+12   3945.818   2.21e+09      0.000    8.74e+12    8.74e+12\n",
      "join_duration_months  2.941e+12   2450.276    1.2e+09      0.000    2.94e+12    2.94e+12\n",
      "========================================================================================\n"
     ]
    }
   ],
   "source": [
    "# actually a logistic regression \n",
    "# \n",
    "model = smf.glm(formula = \"accepts_count ~  offer_amount_max + fee_multiplier + offer_count + views_count + offers_duration +join_duration_months\", \n",
    "                data = final, \n",
    "                family = sm.families.Binomial())\n",
    "\n",
    "# Fit the model\n",
    "result = model.fit()\n",
    "# Display and interpret results\n",
    "print(result.summary())"
   ]
  },
  {
   "cell_type": "raw",
   "id": "667ec209",
   "metadata": {},
   "source": [
    "Did a quick glm based on several vairbles(without standardization), we could see all the variables have high significance. Merchants with lower offer amount max (pretty interesting?), more views count and longer offers_duration are more likely to convert. In order to be more accurate in the model, i would like some data include offer_id to build some connection between offers and merchants while they view the offers. Offer viewing is most drop off step during the funnel , if we have the offer_id as well as offer view time, we could better understand how offer views will play the part in offer acceptance. company industry, months old, \n"
   ]
  },
  {
   "cell_type": "markdown",
   "id": "faa71262",
   "metadata": {},
   "source": [
    "## What kinds of merchants accept more than one offer? How common are these merchants, and how long do they typically wait before taking another advance?"
   ]
  },
  {
   "cell_type": "code",
   "execution_count": 128,
   "id": "486afc2d",
   "metadata": {},
   "outputs": [],
   "source": [
    "#Get business_id which accpet more than one offer\n",
    "more_offer = final[final[\"acceptance_number\"]>1].business_id.drop_duplicates()"
   ]
  },
  {
   "cell_type": "code",
   "execution_count": 129,
   "id": "6f52f9cc",
   "metadata": {},
   "outputs": [],
   "source": [
    "more_offer = more_offer.reset_index()"
   ]
  },
  {
   "cell_type": "code",
   "execution_count": 130,
   "id": "82557180",
   "metadata": {},
   "outputs": [],
   "source": [
    "#Get business_id which at least accpet one offer\n",
    "offers = final[final[\"acceptance_number\"]==1].business_id.drop_duplicates()"
   ]
  },
  {
   "cell_type": "code",
   "execution_count": 132,
   "id": "d308bfd5",
   "metadata": {},
   "outputs": [],
   "source": [
    "offers = offers.reset_index()"
   ]
  },
  {
   "cell_type": "code",
   "execution_count": 133,
   "id": "aa02ed42",
   "metadata": {},
   "outputs": [],
   "source": [
    "# left join to get the business_id which accpet only one offer\n",
    "offer2 = offers.merge(more_offer, on='business_id',how=\"left\")"
   ]
  },
  {
   "cell_type": "code",
   "execution_count": 134,
   "id": "ce917393",
   "metadata": {},
   "outputs": [],
   "source": [
    "only_one= offer2[offer2.index_y.isnull()].business_id.drop_duplicates()\n",
    "only_one= offer2[offer2.index_y.isnull()].business_id.drop_duplicates()\n",
    "only_one = only_one.reset_index()\n",
    "test1 = final.merge(only_one, on= 'business_id')\n",
    "test2 = final[final[\"acceptance_number\"]==1].merge(more_offer, on= 'business_id')"
   ]
  },
  {
   "cell_type": "code",
   "execution_count": 148,
   "id": "7116a423",
   "metadata": {},
   "outputs": [
    {
     "name": "stdout",
     "output_type": "stream",
     "text": [
      "Ratio of merchants which accept more than one offer : 0.4358327803583278\n"
     ]
    }
   ],
   "source": [
    "print(f\"Ratio of merchants which accept more than one offer : {more_offer.business_id.count()/offers.business_id.count()}\")"
   ]
  },
  {
   "cell_type": "code",
   "execution_count": 135,
   "id": "eb4036f5",
   "metadata": {},
   "outputs": [
    {
     "name": "stdout",
     "output_type": "stream",
     "text": [
      "Those merchants with only one offer accepted had an average daily sales forecast of : 312.42981209143045\n",
      "Those merchants with more than one offer accepted had an average daily sales forecast of : 279.35359360868256\n"
     ]
    }
   ],
   "source": [
    "print(f\"Those merchants with only one offer accepted had an average daily sales forecast of : {test1.merchant_daily_sales_forecast.mean()}\")\n",
    "print(f\"Those merchants with more than one offer accepted had an average daily sales forecast of : {test2.merchant_daily_sales_forecast.mean()}\")"
   ]
  },
  {
   "cell_type": "code",
   "execution_count": 136,
   "id": "685f9427",
   "metadata": {},
   "outputs": [
    {
     "name": "stdout",
     "output_type": "stream",
     "text": [
      "Those merchants with only one offer accepted had an average offer amount max: 9958.668782384575\n",
      "Those merchants with more than one offer accepted had an average offer amount max: 7900.732589689478\n"
     ]
    }
   ],
   "source": [
    "print(f\"Those merchants with only one offer accepted had an average offer amount max: {test1.offer_amount_max.mean()}\")\n",
    "print(f\"Those merchants with more than one offer accepted had an average offer amount max: {test2.offer_amount_max.mean()}\")"
   ]
  },
  {
   "cell_type": "code",
   "execution_count": 138,
   "id": "912ff8ff",
   "metadata": {},
   "outputs": [
    {
     "name": "stdout",
     "output_type": "stream",
     "text": [
      "The average days of the merchants with only one offer accepted to close the offer are : 11.6146046071935\n",
      "The average days of the merchants with more than one offer accepted to close the offer sare: 23.630991860114563\n"
     ]
    }
   ],
   "source": [
    "print(f\"The average days of the merchants with only one offer accepted to close the offer are : {test1.offers_duration.mean()}\")\n",
    "print(f\"The average days of the merchants with more than one offer accepted to close the offer sare: {test2.offers_duration.mean()}\")"
   ]
  },
  {
   "cell_type": "code",
   "execution_count": 139,
   "id": "9816b075",
   "metadata": {},
   "outputs": [
    {
     "name": "stdout",
     "output_type": "stream",
     "text": [
      "The average days of the merchants with only one offer between their join platform time and first offer create time are : 27.276467283218437\n",
      "The average days of the merchants with more than one offer between their join platform time and first offer create time are: 21.45492915284896\n"
     ]
    }
   ],
   "source": [
    "print(f\"The average days of the merchants with only one offer between their join platform time and first offer create time are : {test1.join_duration_months.mean()}\")\n",
    "print(f\"The average days of the merchants with more than one offer between their join platform time and first offer create time are: {test2.join_duration_months.mean()}\")"
   ]
  },
  {
   "cell_type": "code",
   "execution_count": 140,
   "id": "572cd59f",
   "metadata": {},
   "outputs": [
    {
     "data": {
      "text/plain": [
       "CA    588\n",
       "NY    284\n",
       "TX    277\n",
       "PA    182\n",
       "NJ    179\n",
       "Name: state, dtype: int64"
      ]
     },
     "execution_count": 140,
     "metadata": {},
     "output_type": "execute_result"
    }
   ],
   "source": [
    "# take a look again on most popular state\n",
    "test2.state.value_counts().head()"
   ]
  },
  {
   "cell_type": "code",
   "execution_count": 141,
   "id": "dc3276f4",
   "metadata": {},
   "outputs": [
    {
     "name": "stdout",
     "output_type": "stream",
     "text": [
      "The average offers of the merchants with only one offer are : 66.07338868624531\n",
      "The average offers of the merchants with more than one offer are: 33.656014470907444\n"
     ]
    }
   ],
   "source": [
    "print(f\"The average offers of the merchants with only one offer are : {test1.offer_count.mean()}\")\n",
    "print(f\"The average offers of the merchants with more than one offer are: {test2.offer_count.mean()}\")"
   ]
  },
  {
   "cell_type": "raw",
   "id": "77b2c2fd",
   "metadata": {},
   "source": [
    "44% of merchants accept more than one offer. Most of these merchants are from CA, NY and TX. When comparing merchants accept more than one offer and accept one offer, i see that the former merchants tend to have fewer days between they were first offered and they first joined the plateform. Also, their daily sales forecast is lower as well as lower offer amount max.I assume those merchants which accepted more than one offer tend to drive fewer sales which are pretty risky , the amount which our company offered is not their expected value so they intend to accept more than 1 offer even if their first offer counts are much fewer. They need the cash advance product to operate the business in early time of their business and were given certainly more time to consider their first offer."
   ]
  },
  {
   "cell_type": "code",
   "execution_count": 149,
   "id": "3f9f463f",
   "metadata": {},
   "outputs": [
    {
     "name": "stdout",
     "output_type": "stream",
     "text": [
      "Days merchants typically wait before taking another advance : 159.98281681497392\n"
     ]
    }
   ],
   "source": [
    "offer_1 = final[(final[\"acceptance_number\"]==1) & (final[\"offer_funded_at\"] .notna())][[\"business_id\",\"offer_accepted_at\"]].merge(more_offer, on= 'business_id')[[\"business_id\",\"offer_accepted_at\"]].drop_duplicates()\n",
    "offer_1 = offer_1.rename(columns= {'offer_accepted_at':'first_offer_accept_at'})\n",
    "offer_2 = final[(final[\"acceptance_number\"]==2) & (final[\"offer_funded_at\"] .notna())].merge(offer_1,on= 'business_id')\n",
    "offer_2[\"duration\"] = (offer_2['offer_accepted_at'] - offer_2['first_offer_accept_at']).dt.days\n",
    "print(f\"Days merchants typically wait before taking another advance : {offer_2.duration.mean()}\")"
   ]
  },
  {
   "cell_type": "markdown",
   "id": "6cae2024",
   "metadata": {},
   "source": [
    "## Based on your analysis of the data, what experiments and/or product initiatives would you suggest to improve our ability to convert small businesses into customers of ours?\n"
   ]
  },
  {
   "cell_type": "raw",
   "id": "3af74daa",
   "metadata": {},
   "source": [
    "Based the coefficients of the model and correlation chart, i could see that number of views are hightly correlated with the final accepts from merchants. Also, the lower offer amount, longer offer duration , lower fee multiplier will lead to better result. However, more offers targeted on one merchant repeatedly may not be that useful, we should focus more on the offer detail to improve the efficiency and save cost. \n",
    "For example, at merchant side, still target on unmanaged segment merchants in big cities including New York , North Cali and South Cali. Meanwhile the company could put some effort on merchants in small state which are top in accept rate.\n",
    "At offer side, for the merchants with better forcast sales (above the average sales), we could give them a better max offer amount to improve their accept rate. Focus more on finding the balance between offer amount and fee multiplier in experiements.\n",
    "For the merchant which had a lower forcast sales , we could focus more on subsequent offer accepts. Since those merchants are comparatively risky(just joined, lower sales forecast), We should design a fit max offer amount with a lower fee multiplier which seems attractive. Make sure they have viewed our good offers in longer given time, we could then lower the actual funding to avoid risk. Furthermore, since those merchants are more likely to ask more than our first given offer, we should attract them to do more businesses with us. The low fee multiplier and some loyalty program could be helpful here and a lot of experiments could be initiated based on offer amount and fee multiplier.Also, we could test on the days of offer given time to see whether longer consideration time will bring more views and final accepts."
   ]
  }
 ],
 "metadata": {
  "kernelspec": {
   "display_name": "Python 3",
   "language": "python",
   "name": "python3"
  },
  "language_info": {
   "codemirror_mode": {
    "name": "ipython",
    "version": 3
   },
   "file_extension": ".py",
   "mimetype": "text/x-python",
   "name": "python",
   "nbconvert_exporter": "python",
   "pygments_lexer": "ipython3",
   "version": "3.8.8"
  }
 },
 "nbformat": 4,
 "nbformat_minor": 5
}
